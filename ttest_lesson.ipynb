{
 "cells": [
  {
   "cell_type": "code",
   "execution_count": 1,
   "id": "270719d2",
   "metadata": {},
   "outputs": [
    {
     "data": {
      "application/javascript": [
       "IPython.notebook.set_autosave_interval(0)"
      ]
     },
     "metadata": {},
     "output_type": "display_data"
    },
    {
     "name": "stdout",
     "output_type": "stream",
     "text": [
      "Autosave disabled\n"
     ]
    }
   ],
   "source": [
    "%autosave 0"
   ]
  },
  {
   "cell_type": "code",
   "execution_count": 2,
   "id": "e844b6b7",
   "metadata": {},
   "outputs": [],
   "source": [
    "#imports\n",
    "import pandas as pd\n",
    "import matplotlib.pyplot as plt\n",
    "\n",
    "from scipy import stats\n",
    "from pydataset import data"
   ]
  },
  {
   "cell_type": "code",
   "execution_count": 3,
   "id": "34a05b46",
   "metadata": {},
   "outputs": [
    {
     "data": {
      "text/html": [
       "<div>\n",
       "<style scoped>\n",
       "    .dataframe tbody tr th:only-of-type {\n",
       "        vertical-align: middle;\n",
       "    }\n",
       "\n",
       "    .dataframe tbody tr th {\n",
       "        vertical-align: top;\n",
       "    }\n",
       "\n",
       "    .dataframe thead th {\n",
       "        text-align: right;\n",
       "    }\n",
       "</style>\n",
       "<table border=\"1\" class=\"dataframe\">\n",
       "  <thead>\n",
       "    <tr style=\"text-align: right;\">\n",
       "      <th></th>\n",
       "      <th>total_bill</th>\n",
       "      <th>tip</th>\n",
       "      <th>sex</th>\n",
       "      <th>smoker</th>\n",
       "      <th>day</th>\n",
       "      <th>time</th>\n",
       "      <th>size</th>\n",
       "    </tr>\n",
       "  </thead>\n",
       "  <tbody>\n",
       "    <tr>\n",
       "      <th>1</th>\n",
       "      <td>16.99</td>\n",
       "      <td>1.01</td>\n",
       "      <td>Female</td>\n",
       "      <td>No</td>\n",
       "      <td>Sun</td>\n",
       "      <td>Dinner</td>\n",
       "      <td>2</td>\n",
       "    </tr>\n",
       "    <tr>\n",
       "      <th>2</th>\n",
       "      <td>10.34</td>\n",
       "      <td>1.66</td>\n",
       "      <td>Male</td>\n",
       "      <td>No</td>\n",
       "      <td>Sun</td>\n",
       "      <td>Dinner</td>\n",
       "      <td>3</td>\n",
       "    </tr>\n",
       "    <tr>\n",
       "      <th>3</th>\n",
       "      <td>21.01</td>\n",
       "      <td>3.50</td>\n",
       "      <td>Male</td>\n",
       "      <td>No</td>\n",
       "      <td>Sun</td>\n",
       "      <td>Dinner</td>\n",
       "      <td>3</td>\n",
       "    </tr>\n",
       "    <tr>\n",
       "      <th>4</th>\n",
       "      <td>23.68</td>\n",
       "      <td>3.31</td>\n",
       "      <td>Male</td>\n",
       "      <td>No</td>\n",
       "      <td>Sun</td>\n",
       "      <td>Dinner</td>\n",
       "      <td>2</td>\n",
       "    </tr>\n",
       "    <tr>\n",
       "      <th>5</th>\n",
       "      <td>24.59</td>\n",
       "      <td>3.61</td>\n",
       "      <td>Female</td>\n",
       "      <td>No</td>\n",
       "      <td>Sun</td>\n",
       "      <td>Dinner</td>\n",
       "      <td>4</td>\n",
       "    </tr>\n",
       "  </tbody>\n",
       "</table>\n",
       "</div>"
      ],
      "text/plain": [
       "   total_bill   tip     sex smoker  day    time  size\n",
       "1       16.99  1.01  Female     No  Sun  Dinner     2\n",
       "2       10.34  1.66    Male     No  Sun  Dinner     3\n",
       "3       21.01  3.50    Male     No  Sun  Dinner     3\n",
       "4       23.68  3.31    Male     No  Sun  Dinner     2\n",
       "5       24.59  3.61  Female     No  Sun  Dinner     4"
      ]
     },
     "execution_count": 3,
     "metadata": {},
     "output_type": "execute_result"
    }
   ],
   "source": [
    "df = data('tips')\n",
    "df.head()"
   ]
  },
  {
   "cell_type": "markdown",
   "id": "5a4cf882",
   "metadata": {},
   "source": [
    "Null: Size 2 parties tip the same amount as any party in my dataset.\n",
    "\n",
    "Alternative: Size 2 parties tip a different amount from any party in my dataset.\n",
    "\n",
    "This will be a 1-sample, 2-tailed t-test!"
   ]
  },
  {
   "cell_type": "code",
   "execution_count": 4,
   "id": "63f1bd03",
   "metadata": {},
   "outputs": [],
   "source": [
    "#define population mean\n",
    "overall_tip = df.tip.mean()"
   ]
  },
  {
   "cell_type": "code",
   "execution_count": 23,
   "id": "319e00fb",
   "metadata": {},
   "outputs": [
    {
     "data": {
      "text/plain": [
       "1     1.01\n",
       "4     3.31\n",
       "7     2.00\n",
       "9     1.96\n",
       "10    3.23\n",
       "Name: tip, dtype: float64"
      ]
     },
     "execution_count": 23,
     "metadata": {},
     "output_type": "execute_result"
    }
   ],
   "source": [
    "#define sample distribution\n",
    "tip_for_two = df[df['size'] == 2].tip\n",
    "tip_for_two.head()"
   ]
  },
  {
   "cell_type": "code",
   "execution_count": 10,
   "id": "1a27485e",
   "metadata": {},
   "outputs": [
    {
     "data": {
      "text/plain": [
       "(-5.271912239283316, 4.4632473980137726e-07)"
      ]
     },
     "execution_count": 10,
     "metadata": {},
     "output_type": "execute_result"
    }
   ],
   "source": [
    "t_two, p_two = stats.ttest_1samp(tip_for_two, overall_tip)\n",
    "t_two, p_two"
   ]
  },
  {
   "cell_type": "code",
   "execution_count": 21,
   "id": "352c06ac",
   "metadata": {},
   "outputs": [
    {
     "data": {
      "image/png": "[encoded data removed]",
      "text/plain": [
       "<Figure size 640x480 with 1 Axes>"
      ]
     },
     "metadata": {},
     "output_type": "display_data"
    }
   ],
   "source": [
    "plt.hist(df.tip, label = 'population')\n",
    "plt.hist(tip_for_two, label = 'party of two')\n",
    "plt.vlines(overall_tip, 0, 80, color = 'firebrick')\n",
    "plt.xlabel('tip amount')\n",
    "plt.ylabel('frequency')\n",
    "plt.legend()\n",
    "plt.show()"
   ]
  },
  {
   "cell_type": "code",
   "execution_count": 22,
   "id": "35ec0809",
   "metadata": {},
   "outputs": [
    {
     "name": "stdout",
     "output_type": "stream",
     "text": [
      "We reject the null hypothesis.\n"
     ]
    }
   ],
   "source": [
    "a = 0.05\n",
    "\n",
    "if p_two < a:\n",
    "    \n",
    "    print('We reject the null hypothesis.')\n",
    "    \n",
    "else:\n",
    "    \n",
    "    print('We fail to reject the null hypothesis.')"
   ]
  },
  {
   "cell_type": "markdown",
   "id": "a7dadec7",
   "metadata": {},
   "source": [
    "Null hypothesis: Guests for dinner pay less than or the same amount as guests for lunch.\n",
    "\n",
    "Alternative hypothesis: Guests for dinner pay more than guests for lunch.\n",
    "\n",
    "This will be a 2-sample, 1-tailed t-test."
   ]
  },
  {
   "cell_type": "code",
   "execution_count": 28,
   "id": "54b9be60",
   "metadata": {},
   "outputs": [],
   "source": [
    "lunch_bills = df[df.time == 'Lunch'].total_bill"
   ]
  },
  {
   "cell_type": "code",
   "execution_count": 29,
   "id": "bb4e3ad6",
   "metadata": {},
   "outputs": [],
   "source": [
    "dinner_bills = df[df.time == 'Dinner'].total_bill"
   ]
  },
  {
   "cell_type": "code",
   "execution_count": 32,
   "id": "3a83ac04",
   "metadata": {},
   "outputs": [
    {
     "data": {
      "image/png": "[encoded data removed]",
      "text/plain": [
       "<Figure size 640x480 with 1 Axes>"
      ]
     },
     "metadata": {},
     "output_type": "display_data"
    }
   ],
   "source": [
    "plt.hist(lunch_bills, label = 'lunch bills')\n",
    "plt.hist(dinner_bills, label = 'dinner bills', alpha = 0.4)\n",
    "plt.legend()\n",
    "plt.show()"
   ]
  },
  {
   "cell_type": "code",
   "execution_count": 33,
   "id": "8706fff9",
   "metadata": {},
   "outputs": [
    {
     "data": {
      "text/plain": [
       "(2.8976375218366424, 0.004104621407595676)"
      ]
     },
     "execution_count": 33,
     "metadata": {},
     "output_type": "execute_result"
    }
   ],
   "source": [
    "t_time, p_time = stats.ttest_ind(dinner_bills, lunch_bills)\n",
    "t_time, p_time"
   ]
  },
  {
   "cell_type": "code",
   "execution_count": 34,
   "id": "c13e00ba",
   "metadata": {},
   "outputs": [
    {
     "name": "stdout",
     "output_type": "stream",
     "text": [
      "We reject the null hypothesis.\n"
     ]
    }
   ],
   "source": [
    "a = 0.05\n",
    "\n",
    "if (t_time > 0) and (p_time / 2 < a):\n",
    "    \n",
    "    print('We reject the null hypothesis.')\n",
    "    \n",
    "else:\n",
    "    \n",
    "    print('We fail to reject the null hypothesis.')"
   ]
  },
  {
   "cell_type": "code",
   "execution_count": null,
   "id": "0ff117e5",
   "metadata": {},
   "outputs": [],
   "source": []
  }
 ],
 "metadata": {
  "kernelspec": {
   "display_name": "Python 3 (ipykernel)",
   "language": "python",
   "name": "python3"
  },
  "language_info": {
   "codemirror_mode": {
    "name": "ipython",
    "version": 3
   },
   "file_extension": ".py",
   "mimetype": "text/x-python",
   "name": "python",
   "nbconvert_exporter": "python",
   "pygments_lexer": "ipython3",
   "version": "3.9.17"
  }
 },
 "nbformat": 4,
 "nbformat_minor": 5
}
