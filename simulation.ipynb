{
 "cells": [
  {
   "cell_type": "markdown",
   "id": "1b580b56",
   "metadata": {},
   "source": [
    "# Simulations"
   ]
  },
  {
   "cell_type": "code",
   "execution_count": 54,
   "id": "c4898a34",
   "metadata": {},
   "outputs": [],
   "source": [
    "#imports\n",
    "import numpy as np\n",
    "import pandas as pd\n",
    "import matplotlib.pyplot as plt"
   ]
  },
  {
   "cell_type": "code",
   "execution_count": 96,
   "id": "29e8d395",
   "metadata": {},
   "outputs": [],
   "source": [
    "np.random.seed(42) \n",
    "\n",
    "#preset the number of simulations we'll have\n",
    "n_simulations =100_000"
   ]
  },
  {
   "cell_type": "markdown",
   "id": "74baf062",
   "metadata": {},
   "source": [
    "<hr style=\"border:2px solid gray\">"
   ]
  },
  {
   "cell_type": "markdown",
   "id": "33328294",
   "metadata": {},
   "source": [
    "### 1. How likely is it that you roll doubles when rolling two dice?"
   ]
  },
  {
   "cell_type": "markdown",
   "id": "92590f4a",
   "metadata": {},
   "source": [
    "- First, let's look at this without our imports, just with the human eye\n",
    "- (1,1) (2,2) (3,3) (4,4) (5,5) (6,6) are the double if we have two dice"
   ]
  },
  {
   "cell_type": "code",
   "execution_count": 56,
   "id": "afc91a82",
   "metadata": {},
   "outputs": [
    {
     "data": {
      "text/plain": [
       "0.16666666666666666"
      ]
     },
     "execution_count": 56,
     "metadata": {},
     "output_type": "execute_result"
    }
   ],
   "source": [
    "#6 chances for a double out of 36 rolls\n",
    "6/36 "
   ]
  },
  {
   "cell_type": "markdown",
   "id": "b0722b3a",
   "metadata": {},
   "source": [
    "- Now, lets use our imports to get an answer via simulation"
   ]
  },
  {
   "cell_type": "code",
   "execution_count": 57,
   "id": "3435c691",
   "metadata": {},
   "outputs": [],
   "source": [
    "#number of dice\n",
    "n_dice = 2 \n",
    "\n",
    "#possible outcomes\n",
    "outcomes = [1,2,3,4,5,6]"
   ]
  },
  {
   "cell_type": "code",
   "execution_count": 58,
   "id": "25d1bfcb",
   "metadata": {},
   "outputs": [
    {
     "data": {
      "text/plain": [
       "array([[4, 5],\n",
       "       [3, 5],\n",
       "       [5, 2],\n",
       "       ...,\n",
       "       [3, 2],\n",
       "       [1, 4],\n",
       "       [4, 6]])"
      ]
     },
     "execution_count": 58,
     "metadata": {},
     "output_type": "execute_result"
    }
   ],
   "source": [
    "rolls = np.random.choice(outcomes, size=(n_simulations, n_dice))\n",
    "\n",
    "#call our variable\n",
    "rolls"
   ]
  },
  {
   "cell_type": "code",
   "execution_count": 59,
   "id": "1c9e3ca1",
   "metadata": {},
   "outputs": [
    {
     "data": {
      "text/html": [
       "<div>\n",
       "<style scoped>\n",
       "    .dataframe tbody tr th:only-of-type {\n",
       "        vertical-align: middle;\n",
       "    }\n",
       "\n",
       "    .dataframe tbody tr th {\n",
       "        vertical-align: top;\n",
       "    }\n",
       "\n",
       "    .dataframe thead th {\n",
       "        text-align: right;\n",
       "    }\n",
       "</style>\n",
       "<table border=\"1\" class=\"dataframe\">\n",
       "  <thead>\n",
       "    <tr style=\"text-align: right;\">\n",
       "      <th></th>\n",
       "      <th>0</th>\n",
       "      <th>1</th>\n",
       "    </tr>\n",
       "  </thead>\n",
       "  <tbody>\n",
       "    <tr>\n",
       "      <th>0</th>\n",
       "      <td>4</td>\n",
       "      <td>5</td>\n",
       "    </tr>\n",
       "    <tr>\n",
       "      <th>1</th>\n",
       "      <td>3</td>\n",
       "      <td>5</td>\n",
       "    </tr>\n",
       "    <tr>\n",
       "      <th>2</th>\n",
       "      <td>5</td>\n",
       "      <td>2</td>\n",
       "    </tr>\n",
       "    <tr>\n",
       "      <th>3</th>\n",
       "      <td>3</td>\n",
       "      <td>3</td>\n",
       "    </tr>\n",
       "    <tr>\n",
       "      <th>4</th>\n",
       "      <td>3</td>\n",
       "      <td>5</td>\n",
       "    </tr>\n",
       "  </tbody>\n",
       "</table>\n",
       "</div>"
      ],
      "text/plain": [
       "   0  1\n",
       "0  4  5\n",
       "1  3  5\n",
       "2  5  2\n",
       "3  3  3\n",
       "4  3  5"
      ]
     },
     "execution_count": 59,
     "metadata": {},
     "output_type": "execute_result"
    }
   ],
   "source": [
    "#let's turn this into a dataframe so we can see our outcomes more clearly\n",
    "rolls =pd.DataFrame(rolls)\n",
    "\n",
    "#call our new dataframe\n",
    "rolls.head()"
   ]
  },
  {
   "cell_type": "code",
   "execution_count": 60,
   "id": "cc68466b",
   "metadata": {},
   "outputs": [
    {
     "data": {
      "text/plain": [
       "0.16698"
      ]
     },
     "execution_count": 60,
     "metadata": {},
     "output_type": "execute_result"
    }
   ],
   "source": [
    "#the average likelyhood that roll in index 0 will equal roll in index 1\n",
    "(rolls[0] == rolls[1]).mean()"
   ]
  },
  {
   "cell_type": "markdown",
   "id": "9b088bbb",
   "metadata": {},
   "source": [
    "<hr style=\"border:1.5px solid black\">"
   ]
  },
  {
   "cell_type": "markdown",
   "id": "7c17c4cb",
   "metadata": {},
   "source": [
    "### #2. If you flip 8 coins, what is the probability of getting exactly 3 heads? What is the probability of getting more than 3 heads?"
   ]
  },
  {
   "cell_type": "code",
   "execution_count": 61,
   "id": "b4795ff9",
   "metadata": {},
   "outputs": [],
   "source": [
    "#number of coins\n",
    "n_coins = 8 \n",
    "\n",
    "#possible outcomes\n",
    "outcomes = ['H', 'T']"
   ]
  },
  {
   "cell_type": "code",
   "execution_count": 62,
   "id": "dfd7328b",
   "metadata": {},
   "outputs": [
    {
     "data": {
      "text/plain": [
       "array([['T', 'H', 'T', ..., 'H', 'H', 'T'],\n",
       "       ['H', 'T', 'T', ..., 'T', 'H', 'T'],\n",
       "       ['T', 'H', 'T', ..., 'H', 'T', 'H'],\n",
       "       ...,\n",
       "       ['H', 'T', 'T', ..., 'H', 'H', 'T'],\n",
       "       ['H', 'T', 'T', ..., 'T', 'T', 'T'],\n",
       "       ['H', 'H', 'H', ..., 'H', 'T', 'H']], dtype='<U1')"
      ]
     },
     "execution_count": 62,
     "metadata": {},
     "output_type": "execute_result"
    }
   ],
   "source": [
    "#us random choice to get the simulation\n",
    "coinflips = np.random.choice(outcomes, size=(n_simulations, n_coins))\n",
    "\n",
    "#call the variable\n",
    "coinflips"
   ]
  },
  {
   "cell_type": "code",
   "execution_count": 63,
   "id": "5d18cc9e",
   "metadata": {},
   "outputs": [
    {
     "data": {
      "text/plain": [
       "array([3, 3, 4, ..., 3, 3, 6])"
      ]
     },
     "execution_count": 63,
     "metadata": {},
     "output_type": "execute_result"
    }
   ],
   "source": [
    "#let's look at the possibility of the coinflip being Heads\n",
    "flips_by_sim = (coinflips == 'H').sum(axis=1)\n",
    "\n",
    "#call that variable\n",
    "flips_by_sim"
   ]
  },
  {
   "cell_type": "markdown",
   "id": "66822297",
   "metadata": {},
   "source": [
    "##### Landing on Heads exactly 3 times"
   ]
  },
  {
   "cell_type": "code",
   "execution_count": 64,
   "id": "9961ffe2",
   "metadata": {},
   "outputs": [
    {
     "data": {
      "text/plain": [
       "0.21945"
      ]
     },
     "execution_count": 64,
     "metadata": {},
     "output_type": "execute_result"
    }
   ],
   "source": [
    "#what is the possibility of the flips being heads exactly 3 times\n",
    "(flips_by_sim == 3).mean()"
   ]
  },
  {
   "cell_type": "markdown",
   "id": "06e7ee20",
   "metadata": {},
   "source": [
    "##### Landing on Heads more than 3 times"
   ]
  },
  {
   "cell_type": "code",
   "execution_count": 65,
   "id": "3bcfd68a",
   "metadata": {},
   "outputs": [
    {
     "data": {
      "text/plain": [
       "0.63632"
      ]
     },
     "execution_count": 65,
     "metadata": {},
     "output_type": "execute_result"
    }
   ],
   "source": [
    "#using data from above\n",
    "(flips_by_sim > 3).mean()"
   ]
  },
  {
   "cell_type": "code",
   "execution_count": 66,
   "id": "07cc259c",
   "metadata": {},
   "outputs": [
    {
     "data": {
      "text/plain": [
       "0.63592"
      ]
     },
     "execution_count": 66,
     "metadata": {},
     "output_type": "execute_result"
    }
   ],
   "source": [
    "#completely redone\n",
    "outcomes = ['H','T']\n",
    "n_coins = 8\n",
    "\n",
    "coinflips = np.random.choice(outcomes, size=(n_simulations, n_coins))\n",
    "flips_by_sim = (coinflips == 'H').sum(axis=1)\n",
    "(flips_by_sim > 3).mean()"
   ]
  },
  {
   "cell_type": "markdown",
   "id": "512c42b8",
   "metadata": {},
   "source": [
    "<hr style=\"border:1.5px solid black\">"
   ]
  },
  {
   "cell_type": "markdown",
   "id": "9cca86b8",
   "metadata": {},
   "source": [
    "### #3 There are approximitely 3 web development cohorts for every 1 data science cohort at Codeup. Assuming that Codeup randomly selects an alumni to put on a billboard, what are the odds that the two billboards I drive past both have data science students on them?"
   ]
  },
  {
   "cell_type": "markdown",
   "id": "96b23731",
   "metadata": {},
   "source": [
    "##### First, let's look at this without imports and answer using probability\n",
    "- 3 webdev per 1 dS == 1/4 classes is DS == 25% of classes are DS\n",
    "- 2 billboards\n",
    "- odds of both having a data science student on it\n",
    "- 25% chance per billboard * 2 billboards = 1/8"
   ]
  },
  {
   "cell_type": "code",
   "execution_count": 67,
   "id": "7cba1a0d",
   "metadata": {},
   "outputs": [
    {
     "data": {
      "text/plain": [
       "0.0625"
      ]
     },
     "execution_count": 67,
     "metadata": {},
     "output_type": "execute_result"
    }
   ],
   "source": [
    "(1/4) * (1/4)"
   ]
  },
  {
   "cell_type": "markdown",
   "id": "6100c2a6",
   "metadata": {},
   "source": [
    "##### Now, let's answer with simulation"
   ]
  },
  {
   "cell_type": "code",
   "execution_count": 68,
   "id": "d07cc6f8",
   "metadata": {},
   "outputs": [
    {
     "data": {
      "text/plain": [
       "array([['wd', 'ds'],\n",
       "       ['wd', 'wd'],\n",
       "       ['ds', 'wd'],\n",
       "       ...,\n",
       "       ['wd', 'wd'],\n",
       "       ['wd', 'wd'],\n",
       "       ['wd', 'wd']], dtype='<U2')"
      ]
     },
     "execution_count": 68,
     "metadata": {},
     "output_type": "execute_result"
    }
   ],
   "source": [
    "#our possible outcomes with 4 classes\n",
    "outcomes = ['wd', 'wd', 'wd', 'ds']\n",
    "\n",
    "#number of billboards\n",
    "n_billboards = 2\n",
    "\n",
    "#using random choice, let's see what the outcomes will be\n",
    "billboards = np.random.choice(outcomes, size=(n_simulations, n_billboards))\n",
    "\n",
    "#call the variable\n",
    "billboards"
   ]
  },
  {
   "cell_type": "code",
   "execution_count": 69,
   "id": "fe6c5604",
   "metadata": {},
   "outputs": [
    {
     "data": {
      "text/plain": [
       "array([['wd', 'wd'],\n",
       "       ['ds', 'wd'],\n",
       "       ['ds', 'wd'],\n",
       "       ...,\n",
       "       ['wd', 'wd'],\n",
       "       ['wd', 'wd'],\n",
       "       ['ds', 'wd']], dtype='<U2')"
      ]
     },
     "execution_count": 69,
     "metadata": {},
     "output_type": "execute_result"
    }
   ],
   "source": [
    "# our only options are...\n",
    "outcomes = ['wd','ds']\n",
    "\n",
    "#using the probability of 1/4 classes being DS, and 3/4 classes being WD\n",
    "billboards = np.random.choice(outcomes, size=(n_simulations, n_billboards), p=[0.75, 0.25])\n",
    "\n",
    "#let's see our outcomes\n",
    "billboards"
   ]
  },
  {
   "cell_type": "code",
   "execution_count": 70,
   "id": "90e77c8b",
   "metadata": {},
   "outputs": [
    {
     "data": {
      "text/plain": [
       "array([0, 1, 1, ..., 0, 0, 1])"
      ]
     },
     "execution_count": 70,
     "metadata": {},
     "output_type": "execute_result"
    }
   ],
   "source": [
    "#what are the possibilities that the billboard will be exactly data science\n",
    "(billboards == 'ds').sum(axis=1)"
   ]
  },
  {
   "cell_type": "code",
   "execution_count": 71,
   "id": "28124cd4",
   "metadata": {},
   "outputs": [
    {
     "data": {
      "text/plain": [
       "0.06275"
      ]
     },
     "execution_count": 71,
     "metadata": {},
     "output_type": "execute_result"
    }
   ],
   "source": [
    "#what is the probability that TWO billboards will be exactly data science\n",
    "prob = ((billboards == 'ds').sum(axis=1) == 2).mean()\n",
    "\n",
    "#call that variable\n",
    "prob"
   ]
  },
  {
   "cell_type": "markdown",
   "id": "94ed38b6",
   "metadata": {},
   "source": [
    "##### Converting from probability to odds:"
   ]
  },
  {
   "cell_type": "code",
   "execution_count": 72,
   "id": "349ca6ab",
   "metadata": {},
   "outputs": [
    {
     "data": {
      "text/plain": [
       "0.93725"
      ]
     },
     "execution_count": 72,
     "metadata": {},
     "output_type": "execute_result"
    }
   ],
   "source": [
    "# Probability of seeing anything else\n",
    "1-prob"
   ]
  },
  {
   "cell_type": "code",
   "execution_count": 73,
   "id": "316176e2",
   "metadata": {},
   "outputs": [
    {
     "data": {
      "text/plain": [
       "0.06695118698319552"
      ]
     },
     "execution_count": 73,
     "metadata": {},
     "output_type": "execute_result"
    }
   ],
   "source": [
    "#odds of seeing a builboard that is not WD\n",
    "odds = prob/(1-prob)\n",
    "odds"
   ]
  },
  {
   "cell_type": "code",
   "execution_count": 74,
   "id": "6729f993",
   "metadata": {},
   "outputs": [
    {
     "data": {
      "text/plain": [
       "0.0625"
      ]
     },
     "execution_count": 74,
     "metadata": {},
     "output_type": "execute_result"
    }
   ],
   "source": [
    "# theoretical prob\n",
    "0.25 * 0.25"
   ]
  },
  {
   "cell_type": "markdown",
   "id": "71cac8e7",
   "metadata": {},
   "source": [
    "<hr style=\"border:1.5px solid black\">"
   ]
  },
  {
   "cell_type": "markdown",
   "id": "c82a2907",
   "metadata": {},
   "source": [
    "### #4 Codeup students buy, on average, 3 poptart packages (+- 1.5) a day from the snack vending machine. If on monday the machine is restocked with 17 poptart packages, how likely is it that I will be able to buy some poptarts on Friday afternoon?"
   ]
  },
  {
   "cell_type": "markdown",
   "id": "c8444f88",
   "metadata": {},
   "source": [
    "##### Let's break this down"
   ]
  },
  {
   "cell_type": "markdown",
   "id": "a2ec2d68",
   "metadata": {},
   "source": [
    "- 1.5-4.5 puchases a day (average 3)\n",
    "- 17 packages every monday\n",
    "- probability to buy one on Friday\n",
    "- Mon:17 - (1.5-4.5) = 15.5-12.5 =day 1 prob = 100%\n",
    "- Tues: 15-12.5 - (1.5-4.5)= 13.5-8 = day 2 prob 100% \n",
    "- Wed:13.5-8 - (1.5-4.5)= 12-3.5 = day 3 prob 100%\n",
    "- Thurs: 12-3.5 - (1.5-4.5)= 10.5-(-1) = day 4, could have 10.5 or -1 left / 50% chance\n",
    "- Friday: 10.5 -(-1) - (1.5-4.5) = 9-(-5.5)= day 4, could have 9 or -5.5/ 50% chance"
   ]
  },
  {
   "cell_type": "markdown",
   "id": "934f6469",
   "metadata": {},
   "source": [
    "##### Now, let's use simulation"
   ]
  },
  {
   "cell_type": "code",
   "execution_count": 75,
   "id": "b227025c",
   "metadata": {},
   "outputs": [],
   "source": [
    "mean = 3 \n",
    "sd = 1.5\n",
    "\n",
    "n_days = 5"
   ]
  },
  {
   "cell_type": "code",
   "execution_count": 82,
   "id": "344d0a1b",
   "metadata": {},
   "outputs": [
    {
     "data": {
      "text/plain": [
       "array([[ 3.74507123,  2.79260355,  3.97153281,  5.28454478,  2.64876994],\n",
       "       [ 2.64879456,  5.36881922,  4.15115209,  2.29578842,  3.81384007],\n",
       "       [ 2.30487346,  2.30140537,  3.36294341,  0.13007963,  0.41262325],\n",
       "       ...,\n",
       "       [ 4.35745962,  3.67129666,  6.64200868,  3.38385454,  6.62904717],\n",
       "       [ 2.0946746 , -0.78190435,  4.15695468, -0.32215048,  3.1578333 ],\n",
       "       [ 1.87701607,  3.89008518,  0.80976807,  4.12613676,  1.02327673]])"
      ]
     },
     "execution_count": 82,
     "metadata": {},
     "output_type": "execute_result"
    }
   ],
   "source": [
    "#let's use random normal becuase we have the mean and sd already\n",
    "#see what are chances are that poptarts are bought that day\n",
    "poptarts_bought_day = np.random.normal(mean, sd, size=(n_simulations, n_days))\n",
    "\n",
    "#take a look at what we get\n",
    "poptarts_bought_day"
   ]
  },
  {
   "cell_type": "code",
   "execution_count": 77,
   "id": "1d5baa2d",
   "metadata": {},
   "outputs": [
    {
     "data": {
      "image/png": "[encoded data removed]",
      "text/plain": [
       "<Figure size 640x480 with 1 Axes>"
      ]
     },
     "metadata": {},
     "output_type": "display_data"
    }
   ],
   "source": [
    "#we can visualize these popart daily purchases if we want to\n",
    "plt.hist(np.random.normal(3, 1.5, size = (10000)))\n",
    "plt.title('Distribution of Poptart Packages Purchased Each Day')\n",
    "plt.vlines(3, 0, 3000, color='black')\n",
    "plt.text(3.1, 3000, 'Mean')\n",
    "plt.vlines(4.5, 0, 3000, color='black', ls='--', alpha=0.5)\n",
    "plt.text(4.6, 3000, '1σ')\n",
    "plt.vlines(6.0, 0, 3000, color='black', ls='--', alpha=0.5)\n",
    "plt.text(6.1, 3000, '2σ')\n",
    "plt.vlines(1.5, 0, 3000, color='black', ls='--', alpha=0.5)\n",
    "plt.text(1.6, 3000, '-1σ')\n",
    "plt.vlines(0, 0, 3000, color='black', ls='--', alpha=0.5)\n",
    "plt.text(0.1, 3000, '-2σ')\n",
    "plt.ylabel('Count')\n",
    "plt.xlabel('Number of Packages Purchased')\n",
    "plt.show()"
   ]
  },
  {
   "cell_type": "code",
   "execution_count": 83,
   "id": "d61a63ec",
   "metadata": {},
   "outputs": [
    {
     "data": {
      "text/plain": [
       "array([18.44252231, 18.27839437,  8.51192512, ..., 24.68366666,\n",
       "        8.30540775, 11.72628281])"
      ]
     },
     "execution_count": 83,
     "metadata": {},
     "output_type": "execute_result"
    }
   ],
   "source": [
    "#see what are chances are that poptarts are bought per week\n",
    "poptarts_bought_per_week = poptarts_bought_day.sum(axis=1)\n",
    "\n",
    "#call that variable\n",
    "poptarts_bought_per_week"
   ]
  },
  {
   "cell_type": "code",
   "execution_count": 84,
   "id": "b41ca6c3",
   "metadata": {},
   "outputs": [
    {
     "data": {
      "text/plain": [
       "0.6175236"
      ]
     },
     "execution_count": 84,
     "metadata": {},
     "output_type": "execute_result"
    }
   ],
   "source": [
    "#probability that less than 17 poptarts are bought that week\n",
    "(poptarts_bought_per_week <= 16).mean()"
   ]
  },
  {
   "cell_type": "markdown",
   "id": "c28e6931",
   "metadata": {},
   "source": [
    "<hr style=\"border:1.5px solid black\">"
   ]
  },
  {
   "cell_type": "markdown",
   "id": "c8c44e9e",
   "metadata": {},
   "source": [
    "### #5 Compare Heights\n",
    "- Men have an average height of 178 cm and standard deviation of 8cm.\n",
    "- Women have a mean of 170, sd = 6cm.\n",
    "- If a man and woman are chosen at random, P(woman taller than man)?"
   ]
  },
  {
   "cell_type": "code",
   "execution_count": 85,
   "id": "67c09233",
   "metadata": {},
   "outputs": [],
   "source": [
    "#men's average height in cm\n",
    "men_avg= 178\n",
    "#men's standard deviation in cm\n",
    "men_std=8\n",
    "\n",
    "#women's average height in cm\n",
    "women_avg=170\n",
    "#women's standard deviation in cm\n",
    "women_std=6"
   ]
  },
  {
   "cell_type": "code",
   "execution_count": 86,
   "id": "7e408cb1",
   "metadata": {},
   "outputs": [
    {
     "data": {
      "text/plain": [
       "array([170.23685428, 171.42090422, 174.34993101, ..., 191.74389752,\n",
       "       183.49919519, 186.01675774])"
      ]
     },
     "execution_count": 86,
     "metadata": {},
     "output_type": "execute_result"
    }
   ],
   "source": [
    "#using random normal, lets find the average heights of men (in cm) for 100K simulations\n",
    "height_men = np.random.normal(men_avg, men_std, n_simulations)\n",
    "\n",
    "#call that variable\n",
    "height_men"
   ]
  },
  {
   "cell_type": "code",
   "execution_count": 87,
   "id": "b8ecbb40",
   "metadata": {},
   "outputs": [
    {
     "data": {
      "text/plain": [
       "array([170.23685428, 171.42090422, 174.34993101, ..., 191.74389752,\n",
       "       183.49919519, 186.01675774])"
      ]
     },
     "execution_count": 87,
     "metadata": {},
     "output_type": "execute_result"
    }
   ],
   "source": [
    "#using random normal, lets find the average heights of women (in cm) for 100K simulations\n",
    "height_women = np.random.normal(women_avg, women_std, n_simulations)\n",
    "\n",
    "#call that variable\n",
    "height_men"
   ]
  },
  {
   "cell_type": "code",
   "execution_count": 88,
   "id": "efb5c0b7",
   "metadata": {},
   "outputs": [
    {
     "data": {
      "text/plain": [
       "0.2119914"
      ]
     },
     "execution_count": 88,
     "metadata": {},
     "output_type": "execute_result"
    }
   ],
   "source": [
    "#what is the average probability that women are taller then men\n",
    "(height_women > height_men).mean()"
   ]
  },
  {
   "cell_type": "markdown",
   "id": "506d8f8a",
   "metadata": {},
   "source": [
    "<hr style=\"border:0.5px solid black\">"
   ]
  },
  {
   "cell_type": "markdown",
   "id": "44e23199",
   "metadata": {},
   "source": [
    "##### another way to code this same question"
   ]
  },
  {
   "cell_type": "code",
   "execution_count": 89,
   "id": "1c280c52",
   "metadata": {},
   "outputs": [
    {
     "data": {
      "text/plain": [
       "array([176.98316178, 177.83524287, 183.36305153, ..., 163.97269261,\n",
       "       185.67666653, 181.34953653])"
      ]
     },
     "execution_count": 89,
     "metadata": {},
     "output_type": "execute_result"
    }
   ],
   "source": [
    "men = np.random.normal(178, 8, size = n_simulations)\n",
    "men"
   ]
  },
  {
   "cell_type": "code",
   "execution_count": 90,
   "id": "3706bdca",
   "metadata": {},
   "outputs": [
    {
     "data": {
      "text/plain": [
       "array([161.30355141, 174.73839353, 170.58327115, ..., 173.79326782,\n",
       "       175.19930788, 181.07820689])"
      ]
     },
     "execution_count": 90,
     "metadata": {},
     "output_type": "execute_result"
    }
   ],
   "source": [
    "women = np.random.normal(170, 6, size = n_simulations)\n",
    "women"
   ]
  },
  {
   "cell_type": "code",
   "execution_count": 91,
   "id": "a2fed250",
   "metadata": {},
   "outputs": [
    {
     "data": {
      "text/plain": [
       "0.2120177"
      ]
     },
     "execution_count": 91,
     "metadata": {},
     "output_type": "execute_result"
    }
   ],
   "source": [
    "#probability that women are taller then men on average\n",
    "(women > men).mean()"
   ]
  },
  {
   "cell_type": "markdown",
   "id": "505c3c02",
   "metadata": {},
   "source": [
    "<hr style=\"border:1.5px solid black\">"
   ]
  },
  {
   "cell_type": "markdown",
   "id": "9548546c",
   "metadata": {},
   "source": [
    "### #6 When installing anaconda on a student's computer, there's a 1 in 250 chance that the download is corrupted and the installation fails.\n",
    "- What are the odds that after having 50 students download anaconda, no one has an installation issue? 100 students?\n",
    "- What is the probability that we observe an installation issue within the first 150 students that download anaconda?\n",
    "- How likely is it that 450 students all download anaconda without an issue?"
   ]
  },
  {
   "cell_type": "markdown",
   "id": "ac88430c",
   "metadata": {},
   "source": [
    "##### Let's break it down\n",
    "- prob_fail = 1/250\n",
    "- 50 students == 0 fails\n",
    "- 100 students == 0 fails\n",
    "- 150 students >= 1 fail\n",
    "- 450 students == 0 fails"
   ]
  },
  {
   "cell_type": "markdown",
   "id": "0e1e44b0",
   "metadata": {},
   "source": [
    "##### 50 installs with no issues"
   ]
  },
  {
   "cell_type": "code",
   "execution_count": 97,
   "id": "ff735ce3",
   "metadata": {},
   "outputs": [],
   "source": [
    "#possible outcomes, success or failure\n",
    "outcomes = ['S', 'F']\n",
    "\n",
    "n_students = 50"
   ]
  },
  {
   "cell_type": "code",
   "execution_count": 98,
   "id": "80e21358",
   "metadata": {},
   "outputs": [
    {
     "data": {
      "text/plain": [
       "array([['S', 'S', 'S', ..., 'S', 'S', 'S'],\n",
       "       ['S', 'S', 'S', ..., 'S', 'S', 'S'],\n",
       "       ['S', 'S', 'S', ..., 'S', 'S', 'S'],\n",
       "       ...,\n",
       "       ['S', 'S', 'S', ..., 'S', 'S', 'S'],\n",
       "       ['S', 'S', 'S', ..., 'S', 'S', 'S'],\n",
       "       ['S', 'S', 'S', ..., 'F', 'S', 'S']], dtype='<U1')"
      ]
     },
     "execution_count": 98,
     "metadata": {},
     "output_type": "execute_result"
    }
   ],
   "source": [
    "downloads = np.random.choice(outcomes, size=(n_simulations, n_students), p = [249/250, 1/250])\n",
    "downloads"
   ]
  },
  {
   "cell_type": "code",
   "execution_count": 99,
   "id": "e7924a5e",
   "metadata": {},
   "outputs": [
    {
     "data": {
      "text/plain": [
       "array([50, 50, 50, ..., 50, 50, 49])"
      ]
     },
     "execution_count": 99,
     "metadata": {},
     "output_type": "execute_result"
    }
   ],
   "source": [
    "(downloads == 'S').sum(axis=1)"
   ]
  },
  {
   "cell_type": "code",
   "execution_count": 100,
   "id": "da614fb1",
   "metadata": {},
   "outputs": [
    {
     "data": {
      "text/plain": [
       "0.81807"
      ]
     },
     "execution_count": 100,
     "metadata": {},
     "output_type": "execute_result"
    }
   ],
   "source": [
    "((downloads == 'S').sum(axis=1) == 50).mean()"
   ]
  },
  {
   "cell_type": "markdown",
   "id": "feffd51e",
   "metadata": {},
   "source": [
    "<hr style=\"border:0.5px solid black\">"
   ]
  },
  {
   "cell_type": "markdown",
   "id": "5f0666c7",
   "metadata": {},
   "source": [
    "##### 100 installs"
   ]
  },
  {
   "cell_type": "code",
   "execution_count": 102,
   "id": "ddbefd1e",
   "metadata": {},
   "outputs": [
    {
     "data": {
      "text/plain": [
       "0.33083"
      ]
     },
     "execution_count": 102,
     "metadata": {},
     "output_type": "execute_result"
    }
   ],
   "source": [
    "outcomes = ['S', 'F']\n",
    "n_students = 100\n",
    "\n",
    "downloads = np.random.choice(outcomes, size=(n_simulations, n_students), p = [249/250, 1/250])\n",
    "\n",
    "((downloads == 'S').sum(axis=1) < n_students).mean()"
   ]
  },
  {
   "cell_type": "markdown",
   "id": "73a74957",
   "metadata": {},
   "source": [
    "<hr style=\"border:0.5px solid black\">"
   ]
  },
  {
   "cell_type": "markdown",
   "id": "ca7d2321",
   "metadata": {},
   "source": [
    "##### 150 installs "
   ]
  },
  {
   "cell_type": "code",
   "execution_count": 103,
   "id": "fe78eefb",
   "metadata": {},
   "outputs": [
    {
     "data": {
      "text/plain": [
       "0.44903"
      ]
     },
     "execution_count": 103,
     "metadata": {},
     "output_type": "execute_result"
    }
   ],
   "source": [
    "outcomes = ['S', 'F']\n",
    "n_students = 150\n",
    "\n",
    "downloads = np.random.choice(outcomes, size=(n_simulations, n_students), p = [249/250, 1/250])\n",
    "\n",
    "((downloads == 'S').sum(axis=1) < n_students).mean()"
   ]
  },
  {
   "cell_type": "markdown",
   "id": "7312b8ad",
   "metadata": {},
   "source": [
    "<hr style=\"border:0.5px solid black\">"
   ]
  },
  {
   "cell_type": "markdown",
   "id": "27bc664f",
   "metadata": {},
   "source": [
    "##### 450 installs"
   ]
  },
  {
   "cell_type": "code",
   "execution_count": 105,
   "id": "03bb4520",
   "metadata": {},
   "outputs": [
    {
     "data": {
      "text/plain": [
       "0.16296"
      ]
     },
     "execution_count": 105,
     "metadata": {},
     "output_type": "execute_result"
    }
   ],
   "source": [
    "outcomes = ['S', 'F']\n",
    "n_students = 450\n",
    "\n",
    "downloads = np.random.choice(outcomes, size=(n_simulations, n_students), p = [249/250, 1/250])\n",
    "\n",
    "((downloads == 'S').sum(axis=1) == n_students).mean()"
   ]
  },
  {
   "cell_type": "markdown",
   "id": "9796f514",
   "metadata": {},
   "source": [
    "<hr style=\"border:1px solid black\">"
   ]
  },
  {
   "cell_type": "markdown",
   "id": "236784f3",
   "metadata": {},
   "source": [
    "### #7. There's a 70% chance on any given day that there will be at least one food truck at Travis Park. However, you haven't seen a food truck there in 3 days. How unlikely is this?"
   ]
  },
  {
   "cell_type": "code",
   "execution_count": 106,
   "id": "999d35f3",
   "metadata": {},
   "outputs": [],
   "source": [
    "n_days = 3"
   ]
  },
  {
   "cell_type": "code",
   "execution_count": 107,
   "id": "a01d2aa9",
   "metadata": {},
   "outputs": [
    {
     "data": {
      "text/plain": [
       "array([[1, 1, 1],\n",
       "       [1, 1, 1],\n",
       "       [1, 0, 0],\n",
       "       ...,\n",
       "       [1, 1, 1],\n",
       "       [0, 1, 1],\n",
       "       [1, 0, 1]])"
      ]
     },
     "execution_count": 107,
     "metadata": {},
     "output_type": "execute_result"
    }
   ],
   "source": [
    "# 0 = no truck, 1 = truck shows up\n",
    "trucks = np.random.choice([0, 1], size = (n_simulations, n_days), p = [0.3, 0.7])\n",
    "\n",
    "#call the variable\n",
    "trucks"
   ]
  },
  {
   "cell_type": "markdown",
   "id": "8abca28c",
   "metadata": {},
   "source": [
    "##### probability that no truck shows up in 3 days"
   ]
  },
  {
   "cell_type": "code",
   "execution_count": 108,
   "id": "6a2f476d",
   "metadata": {},
   "outputs": [
    {
     "data": {
      "text/plain": [
       "0.02708"
      ]
     },
     "execution_count": 108,
     "metadata": {},
     "output_type": "execute_result"
    }
   ],
   "source": [
    "#axis 1 is 0 (or no truck shows up)\n",
    "(trucks.sum(axis = 1) == 0).mean()"
   ]
  },
  {
   "cell_type": "markdown",
   "id": "e379c410",
   "metadata": {},
   "source": [
    "##### How likely is it that a food truck will show up sometime this week"
   ]
  },
  {
   "cell_type": "code",
   "execution_count": 109,
   "id": "788b14f7",
   "metadata": {},
   "outputs": [
    {
     "data": {
      "text/plain": [
       "0.97292"
      ]
     },
     "execution_count": 109,
     "metadata": {},
     "output_type": "execute_result"
    }
   ],
   "source": [
    "#likelyhood that in axis 1 there is a 1 (or a truck DOES show up) one or more days\n",
    "(trucks.sum(axis = 1) >= 1).mean()"
   ]
  },
  {
   "cell_type": "markdown",
   "id": "2523b40a",
   "metadata": {},
   "source": [
    "<hr style=\"border:1px solid black\">"
   ]
  },
  {
   "cell_type": "markdown",
   "id": "b920ea80",
   "metadata": {},
   "source": [
    "### #8. If 23 people are in the same room, what are the odds that two of them share a birthday? What if it's 20 people? 40?\n"
   ]
  },
  {
   "cell_type": "markdown",
   "id": "2c406f38",
   "metadata": {},
   "source": [
    "Let's break it down:\n",
    "- 365 days in a year\n",
    "- what's the probability of same birthday"
   ]
  },
  {
   "cell_type": "markdown",
   "id": "13514040",
   "metadata": {},
   "source": [
    "#### 23 students in the class"
   ]
  },
  {
   "cell_type": "code",
   "execution_count": 110,
   "id": "80ec2476",
   "metadata": {},
   "outputs": [],
   "source": [
    "#number of days in a year\n",
    "outcomes = range(0, 365) \n",
    "\n",
    "#number of students\n",
    "n_students= 23 "
   ]
  },
  {
   "cell_type": "code",
   "execution_count": 111,
   "id": "150f9254",
   "metadata": {},
   "outputs": [
    {
     "data": {
      "text/plain": [
       "array([[265, 187,  89, ..., 283,  12, 341],\n",
       "       [100, 287,  19, ..., 327, 230,  63],\n",
       "       [ 66, 225, 335, ..., 199, 162, 327],\n",
       "       ...,\n",
       "       [ 59, 202, 137, ..., 153,  70, 231],\n",
       "       [166, 353, 311, ..., 200, 178,   4],\n",
       "       [150, 262,  46, ..., 340, 322, 227]])"
      ]
     },
     "execution_count": 111,
     "metadata": {},
     "output_type": "execute_result"
    }
   ],
   "source": [
    "#using random choice to get the possible birthdays\n",
    "birthdays= np.random.choice(outcomes, size=(n_simulations, n_students))\n",
    "\n",
    "#call that variable\n",
    "birthdays"
   ]
  },
  {
   "cell_type": "code",
   "execution_count": 112,
   "id": "ec7ca991",
   "metadata": {},
   "outputs": [
    {
     "data": {
      "text/html": [
       "<div>\n",
       "<style scoped>\n",
       "    .dataframe tbody tr th:only-of-type {\n",
       "        vertical-align: middle;\n",
       "    }\n",
       "\n",
       "    .dataframe tbody tr th {\n",
       "        vertical-align: top;\n",
       "    }\n",
       "\n",
       "    .dataframe thead th {\n",
       "        text-align: right;\n",
       "    }\n",
       "</style>\n",
       "<table border=\"1\" class=\"dataframe\">\n",
       "  <thead>\n",
       "    <tr style=\"text-align: right;\">\n",
       "      <th></th>\n",
       "      <th>0</th>\n",
       "      <th>1</th>\n",
       "      <th>2</th>\n",
       "      <th>3</th>\n",
       "      <th>4</th>\n",
       "      <th>5</th>\n",
       "      <th>6</th>\n",
       "      <th>7</th>\n",
       "      <th>8</th>\n",
       "      <th>9</th>\n",
       "      <th>...</th>\n",
       "      <th>13</th>\n",
       "      <th>14</th>\n",
       "      <th>15</th>\n",
       "      <th>16</th>\n",
       "      <th>17</th>\n",
       "      <th>18</th>\n",
       "      <th>19</th>\n",
       "      <th>20</th>\n",
       "      <th>21</th>\n",
       "      <th>22</th>\n",
       "    </tr>\n",
       "  </thead>\n",
       "  <tbody>\n",
       "    <tr>\n",
       "      <th>0</th>\n",
       "      <td>265</td>\n",
       "      <td>187</td>\n",
       "      <td>89</td>\n",
       "      <td>176</td>\n",
       "      <td>158</td>\n",
       "      <td>81</td>\n",
       "      <td>21</td>\n",
       "      <td>144</td>\n",
       "      <td>52</td>\n",
       "      <td>66</td>\n",
       "      <td>...</td>\n",
       "      <td>321</td>\n",
       "      <td>205</td>\n",
       "      <td>94</td>\n",
       "      <td>139</td>\n",
       "      <td>217</td>\n",
       "      <td>129</td>\n",
       "      <td>165</td>\n",
       "      <td>283</td>\n",
       "      <td>12</td>\n",
       "      <td>341</td>\n",
       "    </tr>\n",
       "    <tr>\n",
       "      <th>1</th>\n",
       "      <td>100</td>\n",
       "      <td>287</td>\n",
       "      <td>19</td>\n",
       "      <td>64</td>\n",
       "      <td>338</td>\n",
       "      <td>205</td>\n",
       "      <td>195</td>\n",
       "      <td>259</td>\n",
       "      <td>31</td>\n",
       "      <td>74</td>\n",
       "      <td>...</td>\n",
       "      <td>310</td>\n",
       "      <td>187</td>\n",
       "      <td>32</td>\n",
       "      <td>245</td>\n",
       "      <td>239</td>\n",
       "      <td>69</td>\n",
       "      <td>356</td>\n",
       "      <td>327</td>\n",
       "      <td>230</td>\n",
       "      <td>63</td>\n",
       "    </tr>\n",
       "    <tr>\n",
       "      <th>2</th>\n",
       "      <td>66</td>\n",
       "      <td>225</td>\n",
       "      <td>335</td>\n",
       "      <td>187</td>\n",
       "      <td>57</td>\n",
       "      <td>23</td>\n",
       "      <td>55</td>\n",
       "      <td>104</td>\n",
       "      <td>167</td>\n",
       "      <td>293</td>\n",
       "      <td>...</td>\n",
       "      <td>175</td>\n",
       "      <td>6</td>\n",
       "      <td>181</td>\n",
       "      <td>36</td>\n",
       "      <td>285</td>\n",
       "      <td>264</td>\n",
       "      <td>351</td>\n",
       "      <td>199</td>\n",
       "      <td>162</td>\n",
       "      <td>327</td>\n",
       "    </tr>\n",
       "    <tr>\n",
       "      <th>3</th>\n",
       "      <td>209</td>\n",
       "      <td>256</td>\n",
       "      <td>203</td>\n",
       "      <td>93</td>\n",
       "      <td>61</td>\n",
       "      <td>264</td>\n",
       "      <td>115</td>\n",
       "      <td>313</td>\n",
       "      <td>144</td>\n",
       "      <td>172</td>\n",
       "      <td>...</td>\n",
       "      <td>60</td>\n",
       "      <td>84</td>\n",
       "      <td>220</td>\n",
       "      <td>328</td>\n",
       "      <td>230</td>\n",
       "      <td>259</td>\n",
       "      <td>193</td>\n",
       "      <td>139</td>\n",
       "      <td>353</td>\n",
       "      <td>12</td>\n",
       "    </tr>\n",
       "    <tr>\n",
       "      <th>4</th>\n",
       "      <td>322</td>\n",
       "      <td>282</td>\n",
       "      <td>125</td>\n",
       "      <td>177</td>\n",
       "      <td>83</td>\n",
       "      <td>338</td>\n",
       "      <td>315</td>\n",
       "      <td>354</td>\n",
       "      <td>39</td>\n",
       "      <td>136</td>\n",
       "      <td>...</td>\n",
       "      <td>344</td>\n",
       "      <td>345</td>\n",
       "      <td>35</td>\n",
       "      <td>102</td>\n",
       "      <td>6</td>\n",
       "      <td>270</td>\n",
       "      <td>86</td>\n",
       "      <td>95</td>\n",
       "      <td>289</td>\n",
       "      <td>256</td>\n",
       "    </tr>\n",
       "  </tbody>\n",
       "</table>\n",
       "<p>5 rows × 23 columns</p>\n",
       "</div>"
      ],
      "text/plain": [
       "    0    1    2    3    4    5    6    7    8    9   ...   13   14   15   16  \\\n",
       "0  265  187   89  176  158   81   21  144   52   66  ...  321  205   94  139   \n",
       "1  100  287   19   64  338  205  195  259   31   74  ...  310  187   32  245   \n",
       "2   66  225  335  187   57   23   55  104  167  293  ...  175    6  181   36   \n",
       "3  209  256  203   93   61  264  115  313  144  172  ...   60   84  220  328   \n",
       "4  322  282  125  177   83  338  315  354   39  136  ...  344  345   35  102   \n",
       "\n",
       "    17   18   19   20   21   22  \n",
       "0  217  129  165  283   12  341  \n",
       "1  239   69  356  327  230   63  \n",
       "2  285  264  351  199  162  327  \n",
       "3  230  259  193  139  353   12  \n",
       "4    6  270   86   95  289  256  \n",
       "\n",
       "[5 rows x 23 columns]"
      ]
     },
     "execution_count": 112,
     "metadata": {},
     "output_type": "execute_result"
    }
   ],
   "source": [
    "#turn it into a DF so it's easier to read\n",
    "birthdays = pd.DataFrame(birthdays)\n",
    "\n",
    "#call our new DF\n",
    "birthdays.head()"
   ]
  },
  {
   "cell_type": "code",
   "execution_count": 113,
   "id": "d6958310",
   "metadata": {},
   "outputs": [
    {
     "data": {
      "text/plain": [
       "0.51081"
      ]
     },
     "execution_count": 113,
     "metadata": {},
     "output_type": "execute_result"
    }
   ],
   "source": [
    "#what are the chances that on average we will have a unique birthday\n",
    "(birthdays.nunique(axis=1) < 23).mean()"
   ]
  },
  {
   "cell_type": "markdown",
   "id": "9e992151",
   "metadata": {},
   "source": [
    "<hr style=\"border:0.5px solid black\">"
   ]
  },
  {
   "cell_type": "markdown",
   "id": "02ad2f25",
   "metadata": {},
   "source": [
    "#### 20 students per class"
   ]
  },
  {
   "cell_type": "code",
   "execution_count": 114,
   "id": "53fd520e",
   "metadata": {},
   "outputs": [],
   "source": [
    "#number of days in a year\n",
    "outcomes = range(0, 365) \n",
    "\n",
    "#number of students\n",
    "n_students= 20 "
   ]
  },
  {
   "cell_type": "code",
   "execution_count": 115,
   "id": "b6272a2a",
   "metadata": {},
   "outputs": [
    {
     "data": {
      "text/html": [
       "<div>\n",
       "<style scoped>\n",
       "    .dataframe tbody tr th:only-of-type {\n",
       "        vertical-align: middle;\n",
       "    }\n",
       "\n",
       "    .dataframe tbody tr th {\n",
       "        vertical-align: top;\n",
       "    }\n",
       "\n",
       "    .dataframe thead th {\n",
       "        text-align: right;\n",
       "    }\n",
       "</style>\n",
       "<table border=\"1\" class=\"dataframe\">\n",
       "  <thead>\n",
       "    <tr style=\"text-align: right;\">\n",
       "      <th></th>\n",
       "      <th>0</th>\n",
       "      <th>1</th>\n",
       "      <th>2</th>\n",
       "      <th>3</th>\n",
       "      <th>4</th>\n",
       "      <th>5</th>\n",
       "      <th>6</th>\n",
       "      <th>7</th>\n",
       "      <th>8</th>\n",
       "      <th>9</th>\n",
       "      <th>10</th>\n",
       "      <th>11</th>\n",
       "      <th>12</th>\n",
       "      <th>13</th>\n",
       "      <th>14</th>\n",
       "      <th>15</th>\n",
       "      <th>16</th>\n",
       "      <th>17</th>\n",
       "      <th>18</th>\n",
       "      <th>19</th>\n",
       "    </tr>\n",
       "  </thead>\n",
       "  <tbody>\n",
       "    <tr>\n",
       "      <th>0</th>\n",
       "      <td>299</td>\n",
       "      <td>204</td>\n",
       "      <td>316</td>\n",
       "      <td>108</td>\n",
       "      <td>28</td>\n",
       "      <td>101</td>\n",
       "      <td>55</td>\n",
       "      <td>257</td>\n",
       "      <td>124</td>\n",
       "      <td>0</td>\n",
       "      <td>44</td>\n",
       "      <td>28</td>\n",
       "      <td>134</td>\n",
       "      <td>101</td>\n",
       "      <td>121</td>\n",
       "      <td>178</td>\n",
       "      <td>235</td>\n",
       "      <td>190</td>\n",
       "      <td>128</td>\n",
       "      <td>32</td>\n",
       "    </tr>\n",
       "    <tr>\n",
       "      <th>1</th>\n",
       "      <td>205</td>\n",
       "      <td>163</td>\n",
       "      <td>110</td>\n",
       "      <td>227</td>\n",
       "      <td>159</td>\n",
       "      <td>231</td>\n",
       "      <td>273</td>\n",
       "      <td>4</td>\n",
       "      <td>188</td>\n",
       "      <td>147</td>\n",
       "      <td>303</td>\n",
       "      <td>222</td>\n",
       "      <td>109</td>\n",
       "      <td>204</td>\n",
       "      <td>304</td>\n",
       "      <td>67</td>\n",
       "      <td>202</td>\n",
       "      <td>209</td>\n",
       "      <td>247</td>\n",
       "      <td>338</td>\n",
       "    </tr>\n",
       "    <tr>\n",
       "      <th>2</th>\n",
       "      <td>330</td>\n",
       "      <td>157</td>\n",
       "      <td>68</td>\n",
       "      <td>106</td>\n",
       "      <td>143</td>\n",
       "      <td>91</td>\n",
       "      <td>17</td>\n",
       "      <td>185</td>\n",
       "      <td>26</td>\n",
       "      <td>204</td>\n",
       "      <td>304</td>\n",
       "      <td>136</td>\n",
       "      <td>183</td>\n",
       "      <td>51</td>\n",
       "      <td>89</td>\n",
       "      <td>240</td>\n",
       "      <td>89</td>\n",
       "      <td>339</td>\n",
       "      <td>50</td>\n",
       "      <td>176</td>\n",
       "    </tr>\n",
       "    <tr>\n",
       "      <th>3</th>\n",
       "      <td>219</td>\n",
       "      <td>124</td>\n",
       "      <td>84</td>\n",
       "      <td>120</td>\n",
       "      <td>152</td>\n",
       "      <td>212</td>\n",
       "      <td>146</td>\n",
       "      <td>198</td>\n",
       "      <td>274</td>\n",
       "      <td>334</td>\n",
       "      <td>142</td>\n",
       "      <td>151</td>\n",
       "      <td>137</td>\n",
       "      <td>310</td>\n",
       "      <td>248</td>\n",
       "      <td>69</td>\n",
       "      <td>212</td>\n",
       "      <td>114</td>\n",
       "      <td>17</td>\n",
       "      <td>314</td>\n",
       "    </tr>\n",
       "    <tr>\n",
       "      <th>4</th>\n",
       "      <td>280</td>\n",
       "      <td>238</td>\n",
       "      <td>83</td>\n",
       "      <td>24</td>\n",
       "      <td>234</td>\n",
       "      <td>11</td>\n",
       "      <td>321</td>\n",
       "      <td>302</td>\n",
       "      <td>195</td>\n",
       "      <td>241</td>\n",
       "      <td>236</td>\n",
       "      <td>73</td>\n",
       "      <td>94</td>\n",
       "      <td>308</td>\n",
       "      <td>130</td>\n",
       "      <td>214</td>\n",
       "      <td>259</td>\n",
       "      <td>165</td>\n",
       "      <td>160</td>\n",
       "      <td>129</td>\n",
       "    </tr>\n",
       "    <tr>\n",
       "      <th>...</th>\n",
       "      <td>...</td>\n",
       "      <td>...</td>\n",
       "      <td>...</td>\n",
       "      <td>...</td>\n",
       "      <td>...</td>\n",
       "      <td>...</td>\n",
       "      <td>...</td>\n",
       "      <td>...</td>\n",
       "      <td>...</td>\n",
       "      <td>...</td>\n",
       "      <td>...</td>\n",
       "      <td>...</td>\n",
       "      <td>...</td>\n",
       "      <td>...</td>\n",
       "      <td>...</td>\n",
       "      <td>...</td>\n",
       "      <td>...</td>\n",
       "      <td>...</td>\n",
       "      <td>...</td>\n",
       "      <td>...</td>\n",
       "    </tr>\n",
       "    <tr>\n",
       "      <th>99995</th>\n",
       "      <td>247</td>\n",
       "      <td>215</td>\n",
       "      <td>235</td>\n",
       "      <td>220</td>\n",
       "      <td>37</td>\n",
       "      <td>294</td>\n",
       "      <td>8</td>\n",
       "      <td>97</td>\n",
       "      <td>238</td>\n",
       "      <td>217</td>\n",
       "      <td>214</td>\n",
       "      <td>140</td>\n",
       "      <td>234</td>\n",
       "      <td>45</td>\n",
       "      <td>203</td>\n",
       "      <td>286</td>\n",
       "      <td>35</td>\n",
       "      <td>345</td>\n",
       "      <td>88</td>\n",
       "      <td>83</td>\n",
       "    </tr>\n",
       "    <tr>\n",
       "      <th>99996</th>\n",
       "      <td>217</td>\n",
       "      <td>216</td>\n",
       "      <td>177</td>\n",
       "      <td>184</td>\n",
       "      <td>126</td>\n",
       "      <td>53</td>\n",
       "      <td>110</td>\n",
       "      <td>49</td>\n",
       "      <td>255</td>\n",
       "      <td>347</td>\n",
       "      <td>292</td>\n",
       "      <td>108</td>\n",
       "      <td>262</td>\n",
       "      <td>248</td>\n",
       "      <td>124</td>\n",
       "      <td>12</td>\n",
       "      <td>304</td>\n",
       "      <td>2</td>\n",
       "      <td>134</td>\n",
       "      <td>2</td>\n",
       "    </tr>\n",
       "    <tr>\n",
       "      <th>99997</th>\n",
       "      <td>177</td>\n",
       "      <td>49</td>\n",
       "      <td>34</td>\n",
       "      <td>27</td>\n",
       "      <td>46</td>\n",
       "      <td>37</td>\n",
       "      <td>86</td>\n",
       "      <td>140</td>\n",
       "      <td>194</td>\n",
       "      <td>192</td>\n",
       "      <td>303</td>\n",
       "      <td>152</td>\n",
       "      <td>327</td>\n",
       "      <td>113</td>\n",
       "      <td>0</td>\n",
       "      <td>155</td>\n",
       "      <td>111</td>\n",
       "      <td>293</td>\n",
       "      <td>3</td>\n",
       "      <td>253</td>\n",
       "    </tr>\n",
       "    <tr>\n",
       "      <th>99998</th>\n",
       "      <td>314</td>\n",
       "      <td>155</td>\n",
       "      <td>64</td>\n",
       "      <td>289</td>\n",
       "      <td>204</td>\n",
       "      <td>363</td>\n",
       "      <td>73</td>\n",
       "      <td>355</td>\n",
       "      <td>7</td>\n",
       "      <td>256</td>\n",
       "      <td>59</td>\n",
       "      <td>350</td>\n",
       "      <td>358</td>\n",
       "      <td>224</td>\n",
       "      <td>207</td>\n",
       "      <td>304</td>\n",
       "      <td>105</td>\n",
       "      <td>279</td>\n",
       "      <td>38</td>\n",
       "      <td>353</td>\n",
       "    </tr>\n",
       "    <tr>\n",
       "      <th>99999</th>\n",
       "      <td>213</td>\n",
       "      <td>324</td>\n",
       "      <td>84</td>\n",
       "      <td>82</td>\n",
       "      <td>115</td>\n",
       "      <td>300</td>\n",
       "      <td>245</td>\n",
       "      <td>170</td>\n",
       "      <td>20</td>\n",
       "      <td>168</td>\n",
       "      <td>332</td>\n",
       "      <td>7</td>\n",
       "      <td>269</td>\n",
       "      <td>215</td>\n",
       "      <td>359</td>\n",
       "      <td>360</td>\n",
       "      <td>83</td>\n",
       "      <td>10</td>\n",
       "      <td>247</td>\n",
       "      <td>161</td>\n",
       "    </tr>\n",
       "  </tbody>\n",
       "</table>\n",
       "<p>100000 rows × 20 columns</p>\n",
       "</div>"
      ],
      "text/plain": [
       "        0    1    2    3    4    5    6    7    8    9    10   11   12   13  \\\n",
       "0      299  204  316  108   28  101   55  257  124    0   44   28  134  101   \n",
       "1      205  163  110  227  159  231  273    4  188  147  303  222  109  204   \n",
       "2      330  157   68  106  143   91   17  185   26  204  304  136  183   51   \n",
       "3      219  124   84  120  152  212  146  198  274  334  142  151  137  310   \n",
       "4      280  238   83   24  234   11  321  302  195  241  236   73   94  308   \n",
       "...    ...  ...  ...  ...  ...  ...  ...  ...  ...  ...  ...  ...  ...  ...   \n",
       "99995  247  215  235  220   37  294    8   97  238  217  214  140  234   45   \n",
       "99996  217  216  177  184  126   53  110   49  255  347  292  108  262  248   \n",
       "99997  177   49   34   27   46   37   86  140  194  192  303  152  327  113   \n",
       "99998  314  155   64  289  204  363   73  355    7  256   59  350  358  224   \n",
       "99999  213  324   84   82  115  300  245  170   20  168  332    7  269  215   \n",
       "\n",
       "        14   15   16   17   18   19  \n",
       "0      121  178  235  190  128   32  \n",
       "1      304   67  202  209  247  338  \n",
       "2       89  240   89  339   50  176  \n",
       "3      248   69  212  114   17  314  \n",
       "4      130  214  259  165  160  129  \n",
       "...    ...  ...  ...  ...  ...  ...  \n",
       "99995  203  286   35  345   88   83  \n",
       "99996  124   12  304    2  134    2  \n",
       "99997    0  155  111  293    3  253  \n",
       "99998  207  304  105  279   38  353  \n",
       "99999  359  360   83   10  247  161  \n",
       "\n",
       "[100000 rows x 20 columns]"
      ]
     },
     "execution_count": 115,
     "metadata": {},
     "output_type": "execute_result"
    }
   ],
   "source": [
    "#let's see what the possibility of birhtdays is with 20 students\n",
    "birthdays= np.random.choice(outcomes, size=(n_simulations, n_students))\n",
    "\n",
    "#turn that into a DF\n",
    "birthdays = pd.DataFrame(birthdays)\n",
    "\n",
    "#call the DF\n",
    "birthdays"
   ]
  },
  {
   "cell_type": "code",
   "execution_count": 116,
   "id": "cb936e94",
   "metadata": {},
   "outputs": [
    {
     "data": {
      "text/plain": [
       "0.41058"
      ]
     },
     "execution_count": 116,
     "metadata": {},
     "output_type": "execute_result"
    }
   ],
   "source": [
    "#get the probability\n",
    "(birthdays.nunique(axis=1) < n_students).mean()"
   ]
  },
  {
   "cell_type": "markdown",
   "id": "326bc901",
   "metadata": {},
   "source": [
    "<hr style=\"border:0.5px solid black\">"
   ]
  },
  {
   "cell_type": "markdown",
   "id": "853e9618",
   "metadata": {},
   "source": [
    "##### 40 students per class"
   ]
  },
  {
   "cell_type": "code",
   "execution_count": 117,
   "id": "8a2b9eff",
   "metadata": {},
   "outputs": [],
   "source": [
    "#number of days in a year\n",
    "outcomes = range(0, 365) \n",
    "\n",
    "#number of students\n",
    "n_students = 40\n",
    "\n",
    "#let's see what the possibility of birhtdays is with 40 students\n",
    "birthdays = np.random.choice(outcomes, size=(n_simulations, n_students))\n",
    "\n",
    "#call the DF\n",
    "birthdays = pd.DataFrame(birthdays)"
   ]
  },
  {
   "cell_type": "code",
   "execution_count": 118,
   "id": "6442a001",
   "metadata": {},
   "outputs": [
    {
     "data": {
      "text/plain": [
       "0.89183"
      ]
     },
     "execution_count": 118,
     "metadata": {},
     "output_type": "execute_result"
    }
   ],
   "source": [
    "#get the probability\n",
    "(birthdays.nunique(axis=1) < n_students).mean()"
   ]
  }
 ],
 "metadata": {
  "kernelspec": {
   "display_name": "Python 3 (ipykernel)",
   "language": "python",
   "name": "python3"
  },
  "language_info": {
   "codemirror_mode": {
    "name": "ipython",
    "version": 3
   },
   "file_extension": ".py",
   "mimetype": "text/x-python",
   "name": "python",
   "nbconvert_exporter": "python",
   "pygments_lexer": "ipython3",
   "version": "3.10.9"
  }
 },
 "nbformat": 4,
 "nbformat_minor": 5
}
