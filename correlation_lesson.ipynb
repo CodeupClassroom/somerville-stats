{
 "cells": [
  {
   "cell_type": "code",
   "execution_count": 1,
   "id": "2c80cfe6",
   "metadata": {},
   "outputs": [
    {
     "data": {
      "application/javascript": [
       "IPython.notebook.set_autosave_interval(0)"
      ]
     },
     "metadata": {},
     "output_type": "display_data"
    },
    {
     "name": "stdout",
     "output_type": "stream",
     "text": [
      "Autosave disabled\n"
     ]
    }
   ],
   "source": [
    "#Disable autosave\n",
    "%autosave 0"
   ]
  },
  {
   "cell_type": "markdown",
   "id": "5d1ea224",
   "metadata": {},
   "source": [
    "We are going to skip the hard way because we are lazy programmers!\n",
    "\n",
    "It's there as a resource to understand how the correlation coefficient is calculated."
   ]
  },
  {
   "cell_type": "code",
   "execution_count": 2,
   "id": "b4a5f400",
   "metadata": {},
   "outputs": [],
   "source": [
    "#Imports\n",
    "import numpy as np\n",
    "import pandas as pd\n",
    "import matplotlib.pyplot as plt\n",
    "\n",
    "from scipy import stats\n",
    "from pydataset import data"
   ]
  },
  {
   "cell_type": "markdown",
   "id": "59a1ab4e",
   "metadata": {},
   "source": [
    "Let's do an example from the mpg dataset."
   ]
  },
  {
   "cell_type": "code",
   "execution_count": 3,
   "id": "a5c1b483",
   "metadata": {},
   "outputs": [
    {
     "data": {
      "text/html": [
       "<div>\n",
       "<style scoped>\n",
       "    .dataframe tbody tr th:only-of-type {\n",
       "        vertical-align: middle;\n",
       "    }\n",
       "\n",
       "    .dataframe tbody tr th {\n",
       "        vertical-align: top;\n",
       "    }\n",
       "\n",
       "    .dataframe thead th {\n",
       "        text-align: right;\n",
       "    }\n",
       "</style>\n",
       "<table border=\"1\" class=\"dataframe\">\n",
       "  <thead>\n",
       "    <tr style=\"text-align: right;\">\n",
       "      <th></th>\n",
       "      <th>manufacturer</th>\n",
       "      <th>model</th>\n",
       "      <th>displ</th>\n",
       "      <th>year</th>\n",
       "      <th>cyl</th>\n",
       "      <th>trans</th>\n",
       "      <th>drv</th>\n",
       "      <th>cty</th>\n",
       "      <th>hwy</th>\n",
       "      <th>fl</th>\n",
       "      <th>class</th>\n",
       "    </tr>\n",
       "  </thead>\n",
       "  <tbody>\n",
       "    <tr>\n",
       "      <th>1</th>\n",
       "      <td>audi</td>\n",
       "      <td>a4</td>\n",
       "      <td>1.8</td>\n",
       "      <td>1999</td>\n",
       "      <td>4</td>\n",
       "      <td>auto(l5)</td>\n",
       "      <td>f</td>\n",
       "      <td>18</td>\n",
       "      <td>29</td>\n",
       "      <td>p</td>\n",
       "      <td>compact</td>\n",
       "    </tr>\n",
       "    <tr>\n",
       "      <th>2</th>\n",
       "      <td>audi</td>\n",
       "      <td>a4</td>\n",
       "      <td>1.8</td>\n",
       "      <td>1999</td>\n",
       "      <td>4</td>\n",
       "      <td>manual(m5)</td>\n",
       "      <td>f</td>\n",
       "      <td>21</td>\n",
       "      <td>29</td>\n",
       "      <td>p</td>\n",
       "      <td>compact</td>\n",
       "    </tr>\n",
       "    <tr>\n",
       "      <th>3</th>\n",
       "      <td>audi</td>\n",
       "      <td>a4</td>\n",
       "      <td>2.0</td>\n",
       "      <td>2008</td>\n",
       "      <td>4</td>\n",
       "      <td>manual(m6)</td>\n",
       "      <td>f</td>\n",
       "      <td>20</td>\n",
       "      <td>31</td>\n",
       "      <td>p</td>\n",
       "      <td>compact</td>\n",
       "    </tr>\n",
       "    <tr>\n",
       "      <th>4</th>\n",
       "      <td>audi</td>\n",
       "      <td>a4</td>\n",
       "      <td>2.0</td>\n",
       "      <td>2008</td>\n",
       "      <td>4</td>\n",
       "      <td>auto(av)</td>\n",
       "      <td>f</td>\n",
       "      <td>21</td>\n",
       "      <td>30</td>\n",
       "      <td>p</td>\n",
       "      <td>compact</td>\n",
       "    </tr>\n",
       "    <tr>\n",
       "      <th>5</th>\n",
       "      <td>audi</td>\n",
       "      <td>a4</td>\n",
       "      <td>2.8</td>\n",
       "      <td>1999</td>\n",
       "      <td>6</td>\n",
       "      <td>auto(l5)</td>\n",
       "      <td>f</td>\n",
       "      <td>16</td>\n",
       "      <td>26</td>\n",
       "      <td>p</td>\n",
       "      <td>compact</td>\n",
       "    </tr>\n",
       "  </tbody>\n",
       "</table>\n",
       "</div>"
      ],
      "text/plain": [
       "  manufacturer model  displ  year  cyl       trans drv  cty  hwy fl    class\n",
       "1         audi    a4    1.8  1999    4    auto(l5)   f   18   29  p  compact\n",
       "2         audi    a4    1.8  1999    4  manual(m5)   f   21   29  p  compact\n",
       "3         audi    a4    2.0  2008    4  manual(m6)   f   20   31  p  compact\n",
       "4         audi    a4    2.0  2008    4    auto(av)   f   21   30  p  compact\n",
       "5         audi    a4    2.8  1999    6    auto(l5)   f   16   26  p  compact"
      ]
     },
     "execution_count": 3,
     "metadata": {},
     "output_type": "execute_result"
    }
   ],
   "source": [
    "#Read in mpg dataset\n",
    "mpg = data('mpg')\n",
    "mpg.head()"
   ]
  },
  {
   "cell_type": "code",
   "execution_count": 4,
   "id": "a03e1435",
   "metadata": {},
   "outputs": [
    {
     "name": "stdout",
     "output_type": "stream",
     "text": [
      "<class 'pandas.core.frame.DataFrame'>\n",
      "Int64Index: 234 entries, 1 to 234\n",
      "Data columns (total 11 columns):\n",
      " #   Column        Non-Null Count  Dtype  \n",
      "---  ------        --------------  -----  \n",
      " 0   manufacturer  234 non-null    object \n",
      " 1   model         234 non-null    object \n",
      " 2   displ         234 non-null    float64\n",
      " 3   year          234 non-null    int64  \n",
      " 4   cyl           234 non-null    int64  \n",
      " 5   trans         234 non-null    object \n",
      " 6   drv           234 non-null    object \n",
      " 7   cty           234 non-null    int64  \n",
      " 8   hwy           234 non-null    int64  \n",
      " 9   fl            234 non-null    object \n",
      " 10  class         234 non-null    object \n",
      "dtypes: float64(1), int64(4), object(6)\n",
      "memory usage: 21.9+ KB\n"
     ]
    }
   ],
   "source": [
    "#Check datatypes\n",
    "mpg.info()"
   ]
  },
  {
   "cell_type": "code",
   "execution_count": 5,
   "id": "dc94b4f2",
   "metadata": {},
   "outputs": [
    {
     "data": {
      "text/plain": [
       "4    81\n",
       "6    79\n",
       "8    70\n",
       "5     4\n",
       "Name: cyl, dtype: int64"
      ]
     },
     "execution_count": 5,
     "metadata": {},
     "output_type": "execute_result"
    }
   ],
   "source": [
    "#This column is numerical, but is it continuous? NO!\n",
    "mpg.cyl.value_counts()"
   ]
  },
  {
   "cell_type": "code",
   "execution_count": 6,
   "id": "772aa245",
   "metadata": {},
   "outputs": [
    {
     "data": {
      "image/png": "[encoded data removed]",
      "text/plain": [
       "<Figure size 640x480 with 1 Axes>"
      ]
     },
     "metadata": {},
     "output_type": "display_data"
    }
   ],
   "source": [
    "#Scatter plot of continuous variables\n",
    "plt.scatter(mpg.cty, mpg.hwy)\n",
    "plt.xlabel('City MPG')\n",
    "plt.ylabel('Highway MPG')\n",
    "plt.title('MPG')\n",
    "plt.show()"
   ]
  },
  {
   "cell_type": "code",
   "execution_count": 7,
   "id": "bc7d95f5",
   "metadata": {},
   "outputs": [
    {
     "data": {
      "text/plain": [
       "(0.9559159136495713, 1.8683071952666785e-125)"
      ]
     },
     "execution_count": 7,
     "metadata": {},
     "output_type": "execute_result"
    }
   ],
   "source": [
    "#Correlation test\n",
    "r, p = stats.pearsonr(mpg.cty, mpg.hwy)\n",
    "r, p"
   ]
  },
  {
   "cell_type": "markdown",
   "id": "13511b6b",
   "metadata": {},
   "source": [
    "The r-value of 0.96 indicates there is a strong, positive correlation between city and highway MPG."
   ]
  },
  {
   "cell_type": "code",
   "execution_count": 8,
   "id": "b8cde409",
   "metadata": {},
   "outputs": [],
   "source": [
    "#Function to evaluate p values\n",
    "def eval_result(p_value, a = 0.05):\n",
    "    \n",
    "    if p_value < a:\n",
    "        \n",
    "        print('Cool beans! Your result is significant!')\n",
    "        \n",
    "    else:\n",
    "        \n",
    "        print('Your result was not significant!')"
   ]
  },
  {
   "cell_type": "code",
   "execution_count": 9,
   "id": "ca6db5c3",
   "metadata": {},
   "outputs": [
    {
     "name": "stdout",
     "output_type": "stream",
     "text": [
      "Cool beans! Your result is significant!\n"
     ]
    }
   ],
   "source": [
    "#Call the function\n",
    "eval_result(p)"
   ]
  },
  {
   "cell_type": "markdown",
   "id": "5a3f1b88",
   "metadata": {},
   "source": [
    "Let's look at a limitation of the Pearson's r test with a non-linear relationship."
   ]
  },
  {
   "cell_type": "code",
   "execution_count": 10,
   "id": "a6255592",
   "metadata": {},
   "outputs": [
    {
     "data": {
      "image/png": "[encoded data removed]",
      "text/plain": [
       "<Figure size 640x480 with 1 Axes>"
      ]
     },
     "metadata": {},
     "output_type": "display_data"
    }
   ],
   "source": [
    "#Define values and plot\n",
    "x = list(range(-15, 15, 1))\n",
    "y = [i ** 3 for i in x]\n",
    "\n",
    "plt.scatter(x, y)\n",
    "plt.show()"
   ]
  },
  {
   "cell_type": "code",
   "execution_count": 11,
   "id": "7c7df3a8",
   "metadata": {},
   "outputs": [
    {
     "name": "stdout",
     "output_type": "stream",
     "text": [
      "Cool beans! Your result is significant!\n"
     ]
    }
   ],
   "source": [
    "#Conduct correlation test and evaluate result\n",
    "r_cubed, p_cubed = stats.pearsonr(x, y)\n",
    "eval_result(p_cubed)"
   ]
  },
  {
   "cell_type": "code",
   "execution_count": 12,
   "id": "529b33de",
   "metadata": {},
   "outputs": [
    {
     "data": {
      "text/plain": [
       "0.915178278514944"
      ]
     },
     "execution_count": 12,
     "metadata": {},
     "output_type": "execute_result"
    }
   ],
   "source": [
    "r_cubed"
   ]
  },
  {
   "cell_type": "markdown",
   "id": "e178498e",
   "metadata": {},
   "source": [
    "The correlation test returns a significant result and a high r value, indicating a strong, linear relationship. From the plot, we know this isn't true! This is a limitation of the test, since it only checks for linear relationships."
   ]
  },
  {
   "cell_type": "code",
   "execution_count": 13,
   "id": "bc155bb5",
   "metadata": {},
   "outputs": [
    {
     "data": {
      "text/plain": [
       "<matplotlib.collections.PathCollection at 0x14c878f70>"
      ]
     },
     "execution_count": 13,
     "metadata": {},
     "output_type": "execute_result"
    },
    {
     "data": {
      "image/png": "[encoded data removed]",
      "text/plain": [
       "<Figure size 640x480 with 1 Axes>"
      ]
     },
     "metadata": {},
     "output_type": "display_data"
    }
   ],
   "source": [
    "#Define values and plot\n",
    "x_square = list(range(-15, 15, 1))\n",
    "y_square = [i ** 2 for i in x]\n",
    "\n",
    "plt.scatter(x_square, y_square)"
   ]
  },
  {
   "cell_type": "code",
   "execution_count": 14,
   "id": "31d40892",
   "metadata": {},
   "outputs": [
    {
     "name": "stdout",
     "output_type": "stream",
     "text": [
      "Your result was not significant!\n"
     ]
    }
   ],
   "source": [
    "#Conduct test and evaluate\n",
    "r_sq, p_sq = stats.pearsonr(x_square, y_square)\n",
    "eval_result(p_sq)"
   ]
  },
  {
   "cell_type": "markdown",
   "id": "fbff1ade",
   "metadata": {},
   "source": [
    "Our result is not significant, yet we can see a relationship between the data! Again, Pearson's r is only testing for a linear relationship between the two features of the dataset."
   ]
  },
  {
   "cell_type": "markdown",
   "id": "b938d8d6",
   "metadata": {},
   "source": [
    "Let's look at another limitation with a linear relationship that doesn't do much."
   ]
  },
  {
   "cell_type": "code",
   "execution_count": 15,
   "id": "792ecdf7",
   "metadata": {},
   "outputs": [
    {
     "data": {
      "text/plain": [
       "(0.0, 75.0)"
      ]
     },
     "execution_count": 15,
     "metadata": {},
     "output_type": "execute_result"
    },
    {
     "data": {
      "image/png": "[encoded data removed]",
      "text/plain": [
       "<Figure size 640x480 with 1 Axes>"
      ]
     },
     "metadata": {},
     "output_type": "display_data"
    }
   ],
   "source": [
    "#Define values. Important to set ylim so it's not deceptive!\n",
    "x_not = [1, 2, 3, 4, 5]\n",
    "y_not = [60, 60.1, 60.2, 60.3, 60.4]\n",
    "\n",
    "plt.scatter(x_not, y_not)\n",
    "plt.ylim(0, 75)"
   ]
  },
  {
   "cell_type": "code",
   "execution_count": 16,
   "id": "47be7f25",
   "metadata": {},
   "outputs": [
    {
     "name": "stdout",
     "output_type": "stream",
     "text": [
      "Cool beans! Your result is significant!\n"
     ]
    }
   ],
   "source": [
    "#Run test and evaluate\n",
    "r_not, p_not = stats.pearsonr(x_not, y_not)\n",
    "eval_result(p_not)"
   ]
  },
  {
   "cell_type": "code",
   "execution_count": 17,
   "id": "fd0539b0",
   "metadata": {},
   "outputs": [
    {
     "data": {
      "text/plain": [
       "0.9999999999999999"
      ]
     },
     "execution_count": 17,
     "metadata": {},
     "output_type": "execute_result"
    }
   ],
   "source": [
    "#INSANE correlation!\n",
    "r_not"
   ]
  },
  {
   "cell_type": "markdown",
   "id": "358132e5",
   "metadata": {},
   "source": [
    "Even though we get a strong correlation and a significant result, it's clear that y is not changing much with x. This is why it's important to include the visual aid with the stats test."
   ]
  },
  {
   "cell_type": "markdown",
   "id": "f22ade50",
   "metadata": {},
   "source": [
    "Bonus! You don't need to try this today! It's super useful for next week on. We can call functions inside of other functions!"
   ]
  },
  {
   "cell_type": "code",
   "execution_count": 18,
   "id": "7565947e",
   "metadata": {},
   "outputs": [],
   "source": [
    "def find_correlation(feature_one, feature_two):\n",
    "    \n",
    "    r, p = stats.pearsonr(feature_one, feature_two)\n",
    "    \n",
    "    eval_result(p)"
   ]
  },
  {
   "cell_type": "code",
   "execution_count": 19,
   "id": "1a5e8816",
   "metadata": {},
   "outputs": [
    {
     "name": "stdout",
     "output_type": "stream",
     "text": [
      "Cool beans! Your result is significant!\n"
     ]
    }
   ],
   "source": [
    "find_correlation(x_not, y_not)"
   ]
  },
  {
   "cell_type": "code",
   "execution_count": null,
   "id": "81847a0f",
   "metadata": {},
   "outputs": [],
   "source": []
  }
 ],
 "metadata": {
  "kernelspec": {
   "display_name": "Python 3 (ipykernel)",
   "language": "python",
   "name": "python3"
  },
  "language_info": {
   "codemirror_mode": {
    "name": "ipython",
    "version": 3
   },
   "file_extension": ".py",
   "mimetype": "text/x-python",
   "name": "python",
   "nbconvert_exporter": "python",
   "pygments_lexer": "ipython3",
   "version": "3.9.17"
  }
 },
 "nbformat": 4,
 "nbformat_minor": 5
}
