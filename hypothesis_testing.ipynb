{
 "cells": [
  {
   "cell_type": "markdown",
   "metadata": {},
   "source": [
    "# Hypothesis Testing - Overview Exercises\n",
    "Do your work for this exercise in a jupyter notebook named hypothesis_testing.ipynb.\n",
    "\n",
    "For each of the following questions, formulate a null and alternative hypothesis (be as specific as you can be), then give an example of what a true positive, true negative, type I and type II errors would look like. Note that some of the questions are intentionally phrased in a vague way. It is your job to reword these as more precise questions that could be tested."
   ]
  },
  {
   "cell_type": "markdown",
   "metadata": {},
   "source": [
    "### 1. Has the network latency gone up since we switched internet service providers?\n",
    "\n",
    "$H_{0}$ : There is no difference in network latency since we switched internet service providers.\n",
    "\n",
    "$H_{\\alpha}$ There has been an improvement in network latency since we switched internet service providers.\n",
    "\n",
    "True Positive: If we reject $H_{0}$ and there is no difference in network latency.\n",
    "\n",
    "True Negative: If we reject $H_{0}$ and there is an improvement in network latency.\n",
    "\n",
    "Type I error (false positive): If we reject $H_{0}$ and that there is no difference in network latency. \n",
    "\n",
    "Type II error (false negative): If we fail to reject $H_{0}$ and that there is an improvement in network latency.\n"
   ]
  },
  {
   "cell_type": "markdown",
   "metadata": {},
   "source": [
    "### 2. Is the website redesign any good?\n",
    "\n",
    "$H_{0}$: There is no difference in website performance since the redesign. \n",
    "\n",
    "$H_{\\alpha}$ There is an improvement in website performance since the redesign.\n",
    "\n",
    "True Positive: If we reject $H_{0}$ and there is no difference in website performance.\n",
    "\n",
    "True Negative: If we reject $H_{0}$ and there is an improvement in website performance.\n",
    "\n",
    "Type I error: If we reject $H_{0}$ and that there is no difference in website performance. \n",
    "\n",
    "Type II error: If we fail to reject $H_{0}$ and that there is an improvement in website performance."
   ]
  },
  {
   "cell_type": "markdown",
   "metadata": {},
   "source": [
    "### 3. Is our television ad driving more sales?\n",
    "\n",
    "$H_{0}$:  There is no difference in sales since airing the television ad.\n",
    "\n",
    "$H_{\\alpha}$:  There is an increase in sales since airing the television ad.\n",
    "\n",
    "True Negative: If we fail to reject $H_{0}$ and there is no difference in sales.\n",
    "\n",
    "True Postive: If we reject $H_{0}$ and there is an increase in sales.\n",
    "\n",
    "Type I error: If we reject $H_{0}$ and that there is no difference in sales. \n",
    "\n",
    "Type II error: If we fail to reject $H_{0}$ and that there is an increase in sales."
   ]
  }
 ],
 "metadata": {
  "language_info": {
   "name": "python"
  },
  "orig_nbformat": 4
 },
 "nbformat": 4,
 "nbformat_minor": 2
}
