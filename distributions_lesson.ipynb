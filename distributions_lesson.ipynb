{
 "cells": [
  {
   "cell_type": "code",
   "execution_count": 1,
   "id": "92b8e7a8",
   "metadata": {},
   "outputs": [
    {
     "data": {
      "application/javascript": [
       "IPython.notebook.set_autosave_interval(0)"
      ]
     },
     "metadata": {},
     "output_type": "display_data"
    },
    {
     "name": "stdout",
     "output_type": "stream",
     "text": [
      "Autosave disabled\n"
     ]
    }
   ],
   "source": [
    "%autosave 0"
   ]
  },
  {
   "cell_type": "code",
   "execution_count": 2,
   "id": "5c14a1fa",
   "metadata": {},
   "outputs": [],
   "source": [
    "import numpy as np\n",
    "from scipy import stats\n",
    "\n",
    "import matplotlib.pyplot as plt"
   ]
  },
  {
   "cell_type": "markdown",
   "id": "f7c41bcf",
   "metadata": {},
   "source": [
    "Let's define a uniform distribution for the roll of a single die."
   ]
  },
  {
   "cell_type": "code",
   "execution_count": 3,
   "id": "f398bc19",
   "metadata": {},
   "outputs": [],
   "source": [
    "dice_rolls = stats.randint(1, 7)"
   ]
  },
  {
   "cell_type": "markdown",
   "id": "cd13086d",
   "metadata": {},
   "source": [
    "We can obtain random values from the distribution using the .rvs() method."
   ]
  },
  {
   "cell_type": "code",
   "execution_count": 4,
   "id": "0218bc86",
   "metadata": {},
   "outputs": [
    {
     "data": {
      "text/plain": [
       "array([2, 1, 3, 4, 1, 4, 4, 6, 5, 6])"
      ]
     },
     "execution_count": 4,
     "metadata": {},
     "output_type": "execute_result"
    }
   ],
   "source": [
    "dice_rolls.rvs(10)"
   ]
  },
  {
   "cell_type": "markdown",
   "id": "8a83e162",
   "metadata": {},
   "source": [
    "Let's return a bunch of numbers and visualize them!"
   ]
  },
  {
   "cell_type": "code",
   "execution_count": 5,
   "id": "3fca1b2e",
   "metadata": {},
   "outputs": [],
   "source": [
    "vals = dice_rolls.rvs(10_000)"
   ]
  },
  {
   "cell_type": "code",
   "execution_count": 6,
   "id": "1c84a61c",
   "metadata": {},
   "outputs": [
    {
     "data": {
      "text/plain": [
       "(array([1641., 1719., 1675., 1654., 1611., 1700.]),\n",
       " array([1, 2, 3, 4, 5, 6, 7]),\n",
       " <BarContainer object of 6 artists>)"
      ]
     },
     "execution_count": 6,
     "metadata": {},
     "output_type": "execute_result"
    },
    {
     "data": {
      "image/png": "[encoded data removed]",
      "text/plain": [
       "<Figure size 432x288 with 1 Axes>"
      ]
     },
     "metadata": {
      "needs_background": "light"
     },
     "output_type": "display_data"
    }
   ],
   "source": [
    "plt.hist(vals, bins = range(1,8), align = 'left', color = 'gray', ec = 'black')"
   ]
  },
  {
   "cell_type": "markdown",
   "id": "e4c59cb4",
   "metadata": {},
   "source": [
    "The probability mass function accepts a value and returns the probability of getting that specified value for discrete distributions.\n",
    "\n",
    "The probability density function performs the same function for continuous distributions."
   ]
  },
  {
   "cell_type": "code",
   "execution_count": null,
   "id": "94522111",
   "metadata": {},
   "outputs": [],
   "source": []
  },
  {
   "cell_type": "markdown",
   "id": "8e4d7bc9",
   "metadata": {},
   "source": [
    "The cumulative density function accepts a value and returns the probability of getting a value up to and including the specified value.\n",
    "\n",
    "The percent point function accepts a proportion and returns the value under which that proportion of values is found."
   ]
  },
  {
   "cell_type": "code",
   "execution_count": null,
   "id": "d88b052c",
   "metadata": {},
   "outputs": [],
   "source": []
  },
  {
   "cell_type": "markdown",
   "id": "5d8a89d9",
   "metadata": {},
   "source": [
    "The survival function accepts a value and returns the probability of getting a value greater than the one specified.\n",
    "\n",
    "The inverse survival function accepts a proportion and returns the value above which that proportion of values is found."
   ]
  },
  {
   "cell_type": "code",
   "execution_count": null,
   "id": "6c90d0ba",
   "metadata": {},
   "outputs": [],
   "source": []
  },
  {
   "cell_type": "markdown",
   "id": "8b14ff0c",
   "metadata": {},
   "source": [
    "A binomial (think binary) distribution assumes there are two possible outcomes: success and failure. We create a binomial distribution with the .binom() method, where we specify the number of trials and the probability of success. We can use the familiar methods on these distributions, too!"
   ]
  },
  {
   "cell_type": "code",
   "execution_count": null,
   "id": "70844f7a",
   "metadata": {},
   "outputs": [],
   "source": []
  },
  {
   "cell_type": "markdown",
   "id": "9c147d70",
   "metadata": {},
   "source": [
    "Normal distributions are for continuous variables. We can create a normal distribution with the .norm() method, where we specify the mean and standard deviation for the distribution."
   ]
  },
  {
   "cell_type": "code",
   "execution_count": null,
   "id": "35116051",
   "metadata": {},
   "outputs": [],
   "source": []
  },
  {
   "cell_type": "markdown",
   "id": "83b8d96c",
   "metadata": {},
   "source": [
    "Poisson distributions measure how many events occur over a specific time period. We create a poisson distribution with the .poisson() method, where we only have to specify the expected value."
   ]
  },
  {
   "cell_type": "code",
   "execution_count": null,
   "id": "fc04a12c",
   "metadata": {},
   "outputs": [],
   "source": []
  }
 ],
 "metadata": {
  "kernelspec": {
   "display_name": "Python 3 (ipykernel)",
   "language": "python",
   "name": "python3"
  },
  "language_info": {
   "codemirror_mode": {
    "name": "ipython",
    "version": 3
   },
   "file_extension": ".py",
   "mimetype": "text/x-python",
   "name": "python",
   "nbconvert_exporter": "python",
   "pygments_lexer": "ipython3",
   "version": "3.9.12"
  }
 },
 "nbformat": 4,
 "nbformat_minor": 5
}
